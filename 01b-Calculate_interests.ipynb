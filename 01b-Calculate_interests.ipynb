{
 "cells": [
  {
   "cell_type": "markdown",
   "id": "912c893a",
   "metadata": {},
   "source": [
    "Some code..."
   ]
  }
 ],
 "metadata": {
  "language_info": {
   "name": "python"
  }
 },
 "nbformat": 4,
 "nbformat_minor": 5
}
